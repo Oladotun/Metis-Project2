{
 "cells": [
  {
   "cell_type": "markdown",
   "metadata": {},
   "source": [
    "# Linear Regression to Predict NBA Player Salaries based on Stats"
   ]
  },
  {
   "cell_type": "markdown",
   "metadata": {},
   "source": [
    "###### by Dotun Opasina"
   ]
  },
  {
   "cell_type": "markdown",
   "metadata": {},
   "source": [
    "### Introduction\n",
    "The goal of this project is to predict Nba Players salaries from 2017 - 2019 using linear regression model while performing data scraping and feature extractions."
   ]
  },
  {
   "cell_type": "code",
   "execution_count": 1,
   "metadata": {},
   "outputs": [],
   "source": [
    "## Include Libraries\n",
    "import pandas as pd\n",
    "import seaborn as sns\n",
    "from sklearn.linear_model import LinearRegression, LassoCV\n",
    "from sklearn.model_selection import train_test_split\n",
    "import matplotlib.pyplot as plot\n",
    "from sklearn.preprocessing import StandardScaler\n",
    "import numpy as np\n",
    "import math"
   ]
  },
  {
   "cell_type": "code",
   "execution_count": 2,
   "metadata": {},
   "outputs": [],
   "source": [
    "## Declare split and validate functions to be used later in the code\n",
    "def split_and_validate(X,y,test=.25,random=3):\n",
    "    X_train, X_val, y_train, y_val = train_test_split(X, y, test_size=test, random_state=random)\n",
    "    \n",
    "    # fit linear regression to training data\n",
    "    lr_model = LinearRegression()\n",
    "    lr_model.fit(X_train, y_train)\n",
    "    \n",
    "    # score fit model on validation data\n",
    "    val_score = lr_model.score(X_val, y_val)\n",
    "    \n",
    "    y_pred = lr_model.predict(X_val)\n",
    "\n",
    "    residuals = y_val - y_pred\n",
    "    \n",
    "\n",
    "    # report results\n",
    "    print('\\nValidation R^2 score was:', val_score)\n",
    "    print('Feature coefficient results:')\n",
    "    for feature, coef in zip(X.columns, lr_model.coef_):\n",
    "        print(feature, ':', f'{coef:.2f}')\n",
    "    \n",
    "    return X_train, X_val, y_train, y_val, residuals, lr_model"
   ]
  },
  {
   "cell_type": "markdown",
   "metadata": {},
   "source": [
    "## Step 1: Data Retrieving and Cleaning"
   ]
  },
  {
   "cell_type": "code",
   "execution_count": 3,
   "metadata": {},
   "outputs": [],
   "source": [
    "onlyPlayerStats = pd.read_csv(\"NbaPlayerStats20172019.csv\")"
   ]
  },
  {
   "cell_type": "code",
   "execution_count": 4,
   "metadata": {},
   "outputs": [
    {
     "data": {
      "text/html": [
       "<div>\n",
       "<style scoped>\n",
       "    .dataframe tbody tr th:only-of-type {\n",
       "        vertical-align: middle;\n",
       "    }\n",
       "\n",
       "    .dataframe tbody tr th {\n",
       "        vertical-align: top;\n",
       "    }\n",
       "\n",
       "    .dataframe thead th {\n",
       "        text-align: right;\n",
       "    }\n",
       "</style>\n",
       "<table border=\"1\" class=\"dataframe\">\n",
       "  <thead>\n",
       "    <tr style=\"text-align: right;\">\n",
       "      <th></th>\n",
       "      <th>Age</th>\n",
       "      <th>MP</th>\n",
       "      <th>ThreePoints</th>\n",
       "      <th>AST</th>\n",
       "      <th>FG</th>\n",
       "      <th>FT</th>\n",
       "      <th>TOV</th>\n",
       "      <th>DRB</th>\n",
       "      <th>FGA</th>\n",
       "      <th>TRB</th>\n",
       "      <th>ORB</th>\n",
       "      <th>FTA</th>\n",
       "      <th>STL</th>\n",
       "      <th>BLK</th>\n",
       "      <th>PF</th>\n",
       "      <th>PointsPerGame</th>\n",
       "      <th>Salary</th>\n",
       "    </tr>\n",
       "  </thead>\n",
       "  <tbody>\n",
       "    <tr>\n",
       "      <th>count</th>\n",
       "      <td>1422.000000</td>\n",
       "      <td>1422.000000</td>\n",
       "      <td>1422.000000</td>\n",
       "      <td>1422.000000</td>\n",
       "      <td>1422.000000</td>\n",
       "      <td>1422.000000</td>\n",
       "      <td>1422.000000</td>\n",
       "      <td>1422.000000</td>\n",
       "      <td>1422.000000</td>\n",
       "      <td>1422.000000</td>\n",
       "      <td>1422.000000</td>\n",
       "      <td>1422.000000</td>\n",
       "      <td>1422.000000</td>\n",
       "      <td>1422.000000</td>\n",
       "      <td>1422.000000</td>\n",
       "      <td>1422.000000</td>\n",
       "      <td>1.422000e+03</td>\n",
       "    </tr>\n",
       "    <tr>\n",
       "      <th>mean</th>\n",
       "      <td>26.274965</td>\n",
       "      <td>20.104993</td>\n",
       "      <td>0.849930</td>\n",
       "      <td>1.938748</td>\n",
       "      <td>3.226231</td>\n",
       "      <td>1.395007</td>\n",
       "      <td>1.119339</td>\n",
       "      <td>2.773980</td>\n",
       "      <td>7.121167</td>\n",
       "      <td>3.603165</td>\n",
       "      <td>0.832911</td>\n",
       "      <td>1.830591</td>\n",
       "      <td>0.642827</td>\n",
       "      <td>0.396343</td>\n",
       "      <td>1.714416</td>\n",
       "      <td>8.695640</td>\n",
       "      <td>6.282043e+06</td>\n",
       "    </tr>\n",
       "    <tr>\n",
       "      <th>std</th>\n",
       "      <td>4.270868</td>\n",
       "      <td>9.080240</td>\n",
       "      <td>0.796339</td>\n",
       "      <td>1.785743</td>\n",
       "      <td>2.174433</td>\n",
       "      <td>1.362123</td>\n",
       "      <td>0.803895</td>\n",
       "      <td>1.857142</td>\n",
       "      <td>4.550271</td>\n",
       "      <td>2.485467</td>\n",
       "      <td>0.779983</td>\n",
       "      <td>1.669720</td>\n",
       "      <td>0.435366</td>\n",
       "      <td>0.426993</td>\n",
       "      <td>0.777079</td>\n",
       "      <td>6.050177</td>\n",
       "      <td>7.368601e+06</td>\n",
       "    </tr>\n",
       "    <tr>\n",
       "      <th>min</th>\n",
       "      <td>19.000000</td>\n",
       "      <td>1.000000</td>\n",
       "      <td>0.000000</td>\n",
       "      <td>0.000000</td>\n",
       "      <td>0.000000</td>\n",
       "      <td>0.000000</td>\n",
       "      <td>0.000000</td>\n",
       "      <td>0.000000</td>\n",
       "      <td>0.000000</td>\n",
       "      <td>0.000000</td>\n",
       "      <td>0.000000</td>\n",
       "      <td>0.000000</td>\n",
       "      <td>0.000000</td>\n",
       "      <td>0.000000</td>\n",
       "      <td>0.000000</td>\n",
       "      <td>0.000000</td>\n",
       "      <td>4.608000e+03</td>\n",
       "    </tr>\n",
       "    <tr>\n",
       "      <th>25%</th>\n",
       "      <td>23.000000</td>\n",
       "      <td>13.300000</td>\n",
       "      <td>0.200000</td>\n",
       "      <td>0.700000</td>\n",
       "      <td>1.600000</td>\n",
       "      <td>0.500000</td>\n",
       "      <td>0.525000</td>\n",
       "      <td>1.500000</td>\n",
       "      <td>3.700000</td>\n",
       "      <td>1.900000</td>\n",
       "      <td>0.300000</td>\n",
       "      <td>0.725000</td>\n",
       "      <td>0.300000</td>\n",
       "      <td>0.100000</td>\n",
       "      <td>1.200000</td>\n",
       "      <td>4.300000</td>\n",
       "      <td>1.312611e+06</td>\n",
       "    </tr>\n",
       "    <tr>\n",
       "      <th>50%</th>\n",
       "      <td>26.000000</td>\n",
       "      <td>20.000000</td>\n",
       "      <td>0.700000</td>\n",
       "      <td>1.400000</td>\n",
       "      <td>2.700000</td>\n",
       "      <td>1.000000</td>\n",
       "      <td>1.000000</td>\n",
       "      <td>2.400000</td>\n",
       "      <td>6.100000</td>\n",
       "      <td>3.100000</td>\n",
       "      <td>0.600000</td>\n",
       "      <td>1.300000</td>\n",
       "      <td>0.600000</td>\n",
       "      <td>0.300000</td>\n",
       "      <td>1.800000</td>\n",
       "      <td>7.300000</td>\n",
       "      <td>2.962860e+06</td>\n",
       "    </tr>\n",
       "    <tr>\n",
       "      <th>75%</th>\n",
       "      <td>29.000000</td>\n",
       "      <td>27.475000</td>\n",
       "      <td>1.300000</td>\n",
       "      <td>2.500000</td>\n",
       "      <td>4.400000</td>\n",
       "      <td>1.800000</td>\n",
       "      <td>1.500000</td>\n",
       "      <td>3.600000</td>\n",
       "      <td>9.800000</td>\n",
       "      <td>4.700000</td>\n",
       "      <td>1.100000</td>\n",
       "      <td>2.400000</td>\n",
       "      <td>0.900000</td>\n",
       "      <td>0.500000</td>\n",
       "      <td>2.200000</td>\n",
       "      <td>11.800000</td>\n",
       "      <td>9.000000e+06</td>\n",
       "    </tr>\n",
       "    <tr>\n",
       "      <th>max</th>\n",
       "      <td>42.000000</td>\n",
       "      <td>37.800000</td>\n",
       "      <td>5.100000</td>\n",
       "      <td>11.200000</td>\n",
       "      <td>10.800000</td>\n",
       "      <td>9.700000</td>\n",
       "      <td>5.700000</td>\n",
       "      <td>11.100000</td>\n",
       "      <td>24.500000</td>\n",
       "      <td>16.000000</td>\n",
       "      <td>5.400000</td>\n",
       "      <td>11.000000</td>\n",
       "      <td>2.400000</td>\n",
       "      <td>6.000000</td>\n",
       "      <td>4.400000</td>\n",
       "      <td>36.100000</td>\n",
       "      <td>3.745715e+07</td>\n",
       "    </tr>\n",
       "  </tbody>\n",
       "</table>\n",
       "</div>"
      ],
      "text/plain": [
       "               Age           MP  ThreePoints          AST           FG  \\\n",
       "count  1422.000000  1422.000000  1422.000000  1422.000000  1422.000000   \n",
       "mean     26.274965    20.104993     0.849930     1.938748     3.226231   \n",
       "std       4.270868     9.080240     0.796339     1.785743     2.174433   \n",
       "min      19.000000     1.000000     0.000000     0.000000     0.000000   \n",
       "25%      23.000000    13.300000     0.200000     0.700000     1.600000   \n",
       "50%      26.000000    20.000000     0.700000     1.400000     2.700000   \n",
       "75%      29.000000    27.475000     1.300000     2.500000     4.400000   \n",
       "max      42.000000    37.800000     5.100000    11.200000    10.800000   \n",
       "\n",
       "                FT          TOV          DRB          FGA          TRB  \\\n",
       "count  1422.000000  1422.000000  1422.000000  1422.000000  1422.000000   \n",
       "mean      1.395007     1.119339     2.773980     7.121167     3.603165   \n",
       "std       1.362123     0.803895     1.857142     4.550271     2.485467   \n",
       "min       0.000000     0.000000     0.000000     0.000000     0.000000   \n",
       "25%       0.500000     0.525000     1.500000     3.700000     1.900000   \n",
       "50%       1.000000     1.000000     2.400000     6.100000     3.100000   \n",
       "75%       1.800000     1.500000     3.600000     9.800000     4.700000   \n",
       "max       9.700000     5.700000    11.100000    24.500000    16.000000   \n",
       "\n",
       "               ORB          FTA          STL          BLK           PF  \\\n",
       "count  1422.000000  1422.000000  1422.000000  1422.000000  1422.000000   \n",
       "mean      0.832911     1.830591     0.642827     0.396343     1.714416   \n",
       "std       0.779983     1.669720     0.435366     0.426993     0.777079   \n",
       "min       0.000000     0.000000     0.000000     0.000000     0.000000   \n",
       "25%       0.300000     0.725000     0.300000     0.100000     1.200000   \n",
       "50%       0.600000     1.300000     0.600000     0.300000     1.800000   \n",
       "75%       1.100000     2.400000     0.900000     0.500000     2.200000   \n",
       "max       5.400000    11.000000     2.400000     6.000000     4.400000   \n",
       "\n",
       "       PointsPerGame        Salary  \n",
       "count    1422.000000  1.422000e+03  \n",
       "mean        8.695640  6.282043e+06  \n",
       "std         6.050177  7.368601e+06  \n",
       "min         0.000000  4.608000e+03  \n",
       "25%         4.300000  1.312611e+06  \n",
       "50%         7.300000  2.962860e+06  \n",
       "75%        11.800000  9.000000e+06  \n",
       "max        36.100000  3.745715e+07  "
      ]
     },
     "execution_count": 4,
     "metadata": {},
     "output_type": "execute_result"
    }
   ],
   "source": [
    "## Do Some Data Cleaning\n",
    "onlyPlayerStats = onlyPlayerStats.rename(columns={'3P' : 'ThreePoints', 'PTS/G': 'PointsPerGame' })\n",
    "\n",
    "onlyPlayerStats.describe()"
   ]
  },
  {
   "cell_type": "code",
   "execution_count": 5,
   "metadata": {},
   "outputs": [],
   "source": [
    "### Remove Player Salaries that are Zero \n",
    "onlyPlayerStats.drop(onlyPlayerStats[onlyPlayerStats.Salary == 0].index, inplace=True)"
   ]
  },
  {
   "cell_type": "markdown",
   "metadata": {},
   "source": [
    "### Since we are dealing with Salaries data, we perform a logarithmic transformation to make highly skewed distribution salary differinces less skewed"
   ]
  },
  {
   "cell_type": "code",
   "execution_count": 6,
   "metadata": {},
   "outputs": [],
   "source": [
    "onlyPlayerStats[\"Salary_Log\"] = np.log(onlyPlayerStats[\"Salary\"])"
   ]
  },
  {
   "cell_type": "markdown",
   "metadata": {},
   "source": [
    "## Step 2: Perform Initial Validation on initial data set"
   ]
  },
  {
   "cell_type": "code",
   "execution_count": 7,
   "metadata": {},
   "outputs": [],
   "source": [
    "## Take out Name, Salary and Salary Logged and Season from our data and use the remaining data for\n",
    "## our X value\n",
    "## Select only the Salary logged as our Y\n",
    "X, y = onlyPlayerStats.drop(['Name','Salary', 'Salary_Log','Season'],axis=1), onlyPlayerStats['Salary_Log']\n"
   ]
  },
  {
   "cell_type": "code",
   "execution_count": 8,
   "metadata": {},
   "outputs": [
    {
     "name": "stdout",
     "output_type": "stream",
     "text": [
      "\n",
      "Validation R^2 score was: 0.42612028609801234\n",
      "Feature coefficient results:\n",
      "Age : 0.08\n",
      "MP : 0.06\n",
      "ThreePoints : 0.08\n",
      "AST : 0.02\n",
      "FG : 0.29\n",
      "FT : 0.19\n",
      "TOV : -0.06\n",
      "DRB : -0.43\n",
      "FGA : -0.06\n",
      "TRB : 0.61\n",
      "ORB : -0.67\n",
      "FTA : -0.07\n",
      "STL : -0.13\n",
      "BLK : -0.17\n",
      "PF : 0.11\n",
      "PointsPerGame : -0.04\n"
     ]
    }
   ],
   "source": [
    "## Do a split and validate of our original data\n",
    "X_train, X_val, y_train, y_val, residuals, model = split_and_validate(X,y)"
   ]
  },
  {
   "cell_type": "markdown",
   "metadata": {},
   "source": [
    "What we notice from the result above is there are many features that have negative relationships with the salary column so we need a way to pick what features are most important for our model"
   ]
  },
  {
   "cell_type": "markdown",
   "metadata": {},
   "source": [
    "## Step 3: Perform Lasso algorithms for Feature selections"
   ]
  },
  {
   "cell_type": "markdown",
   "metadata": {},
   "source": [
    "##### Standard Scale our Inputs"
   ]
  },
  {
   "cell_type": "code",
   "execution_count": 9,
   "metadata": {},
   "outputs": [
    {
     "data": {
      "text/plain": [
       "StandardScaler(copy=True, with_mean=True, with_std=True)"
      ]
     },
     "execution_count": 9,
     "metadata": {},
     "output_type": "execute_result"
    }
   ],
   "source": [
    "## We first use a standard scaler to scale the inputs\n",
    "std = StandardScaler()\n",
    "std.fit(X_train.values)"
   ]
  },
  {
   "cell_type": "code",
   "execution_count": 10,
   "metadata": {},
   "outputs": [],
   "source": [
    "## Transform our X column\n",
    "X_tr = std.transform(X_train.values)\n",
    "X_te = std.transform(X_val.values)"
   ]
  },
  {
   "cell_type": "markdown",
   "metadata": {},
   "source": [
    "##### Lasso Step"
   ]
  },
  {
   "cell_type": "code",
   "execution_count": 12,
   "metadata": {},
   "outputs": [],
   "source": [
    "lassocv = LassoCV(cv=5, random_state=0) ## Initialize Lasso"
   ]
  },
  {
   "cell_type": "code",
   "execution_count": 14,
   "metadata": {},
   "outputs": [
    {
     "name": "stderr",
     "output_type": "stream",
     "text": [
      "/Users/opasina/anaconda3/lib/python3.7/site-packages/sklearn/linear_model/coordinate_descent.py:492: ConvergenceWarning: Objective did not converge. You might want to increase the number of iterations. Fitting data with very small alpha may cause precision problems.\n",
      "  ConvergenceWarning)\n",
      "/Users/opasina/anaconda3/lib/python3.7/site-packages/sklearn/linear_model/coordinate_descent.py:492: ConvergenceWarning: Objective did not converge. You might want to increase the number of iterations. Fitting data with very small alpha may cause precision problems.\n",
      "  ConvergenceWarning)\n",
      "/Users/opasina/anaconda3/lib/python3.7/site-packages/sklearn/linear_model/coordinate_descent.py:492: ConvergenceWarning: Objective did not converge. You might want to increase the number of iterations. Fitting data with very small alpha may cause precision problems.\n",
      "  ConvergenceWarning)\n",
      "/Users/opasina/anaconda3/lib/python3.7/site-packages/sklearn/linear_model/coordinate_descent.py:492: ConvergenceWarning: Objective did not converge. You might want to increase the number of iterations. Fitting data with very small alpha may cause precision problems.\n",
      "  ConvergenceWarning)\n",
      "/Users/opasina/anaconda3/lib/python3.7/site-packages/sklearn/linear_model/coordinate_descent.py:492: ConvergenceWarning: Objective did not converge. You might want to increase the number of iterations. Fitting data with very small alpha may cause precision problems.\n",
      "  ConvergenceWarning)\n",
      "/Users/opasina/anaconda3/lib/python3.7/site-packages/sklearn/linear_model/coordinate_descent.py:492: ConvergenceWarning: Objective did not converge. You might want to increase the number of iterations. Fitting data with very small alpha may cause precision problems.\n",
      "  ConvergenceWarning)\n",
      "/Users/opasina/anaconda3/lib/python3.7/site-packages/sklearn/linear_model/coordinate_descent.py:492: ConvergenceWarning: Objective did not converge. You might want to increase the number of iterations. Fitting data with very small alpha may cause precision problems.\n",
      "  ConvergenceWarning)\n",
      "/Users/opasina/anaconda3/lib/python3.7/site-packages/sklearn/linear_model/coordinate_descent.py:492: ConvergenceWarning: Objective did not converge. You might want to increase the number of iterations. Fitting data with very small alpha may cause precision problems.\n",
      "  ConvergenceWarning)\n",
      "/Users/opasina/anaconda3/lib/python3.7/site-packages/sklearn/linear_model/coordinate_descent.py:492: ConvergenceWarning: Objective did not converge. You might want to increase the number of iterations. Fitting data with very small alpha may cause precision problems.\n",
      "  ConvergenceWarning)\n",
      "/Users/opasina/anaconda3/lib/python3.7/site-packages/sklearn/linear_model/coordinate_descent.py:492: ConvergenceWarning: Objective did not converge. You might want to increase the number of iterations. Fitting data with very small alpha may cause precision problems.\n",
      "  ConvergenceWarning)\n",
      "/Users/opasina/anaconda3/lib/python3.7/site-packages/sklearn/linear_model/coordinate_descent.py:492: ConvergenceWarning: Objective did not converge. You might want to increase the number of iterations. Fitting data with very small alpha may cause precision problems.\n",
      "  ConvergenceWarning)\n",
      "/Users/opasina/anaconda3/lib/python3.7/site-packages/sklearn/linear_model/coordinate_descent.py:492: ConvergenceWarning: Objective did not converge. You might want to increase the number of iterations. Fitting data with very small alpha may cause precision problems.\n",
      "  ConvergenceWarning)\n",
      "/Users/opasina/anaconda3/lib/python3.7/site-packages/sklearn/linear_model/coordinate_descent.py:492: ConvergenceWarning: Objective did not converge. You might want to increase the number of iterations. Fitting data with very small alpha may cause precision problems.\n",
      "  ConvergenceWarning)\n",
      "/Users/opasina/anaconda3/lib/python3.7/site-packages/sklearn/linear_model/coordinate_descent.py:492: ConvergenceWarning: Objective did not converge. You might want to increase the number of iterations. Fitting data with very small alpha may cause precision problems.\n",
      "  ConvergenceWarning)\n",
      "/Users/opasina/anaconda3/lib/python3.7/site-packages/sklearn/linear_model/coordinate_descent.py:492: ConvergenceWarning: Objective did not converge. You might want to increase the number of iterations. Fitting data with very small alpha may cause precision problems.\n",
      "  ConvergenceWarning)\n",
      "/Users/opasina/anaconda3/lib/python3.7/site-packages/sklearn/linear_model/coordinate_descent.py:492: ConvergenceWarning: Objective did not converge. You might want to increase the number of iterations. Fitting data with very small alpha may cause precision problems.\n",
      "  ConvergenceWarning)\n",
      "/Users/opasina/anaconda3/lib/python3.7/site-packages/sklearn/linear_model/coordinate_descent.py:492: ConvergenceWarning: Objective did not converge. You might want to increase the number of iterations. Fitting data with very small alpha may cause precision problems.\n",
      "  ConvergenceWarning)\n",
      "/Users/opasina/anaconda3/lib/python3.7/site-packages/sklearn/linear_model/coordinate_descent.py:492: ConvergenceWarning: Objective did not converge. You might want to increase the number of iterations. Fitting data with very small alpha may cause precision problems.\n",
      "  ConvergenceWarning)\n",
      "/Users/opasina/anaconda3/lib/python3.7/site-packages/sklearn/linear_model/coordinate_descent.py:492: ConvergenceWarning: Objective did not converge. You might want to increase the number of iterations. Fitting data with very small alpha may cause precision problems.\n",
      "  ConvergenceWarning)\n",
      "/Users/opasina/anaconda3/lib/python3.7/site-packages/sklearn/linear_model/coordinate_descent.py:492: ConvergenceWarning: Objective did not converge. You might want to increase the number of iterations. Fitting data with very small alpha may cause precision problems.\n",
      "  ConvergenceWarning)\n"
     ]
    },
    {
     "data": {
      "text/plain": [
       "LassoCV(alphas=None, copy_X=True, cv=5, eps=0.001, fit_intercept=True,\n",
       "    max_iter=1000, n_alphas=100, n_jobs=None, normalize=False,\n",
       "    positive=False, precompute='auto', random_state=0, selection='cyclic',\n",
       "    tol=0.0001, verbose=False)"
      ]
     },
     "execution_count": 14,
     "metadata": {},
     "output_type": "execute_result"
    }
   ],
   "source": [
    "lassocv.fit(X_tr, y_train) ## We fit our data"
   ]
  },
  {
   "cell_type": "code",
   "execution_count": 16,
   "metadata": {},
   "outputs": [
    {
     "data": {
      "text/plain": [
       "0.4331577336227551"
      ]
     },
     "execution_count": 16,
     "metadata": {},
     "output_type": "execute_result"
    }
   ],
   "source": [
    "lassocv.score(X_te, y_val) ## Our Lasso Score"
   ]
  },
  {
   "cell_type": "code",
   "execution_count": 31,
   "metadata": {},
   "outputs": [
    {
     "data": {
      "text/plain": [
       "Text(0.5, 0, 'Alpha (log10)')"
      ]
     },
     "execution_count": 31,
     "metadata": {},
     "output_type": "execute_result"
    },
    {
     "data": {
      "image/png": "[encoded data removed]",
      "text/plain": [
       "<Figure size 1152x576 with 1 Axes>"
      ]
     },
     "metadata": {
      "needs_background": "light"
     },
     "output_type": "display_data"
    }
   ],
   "source": [
    "## Plot out the Lasso Alphas\n",
    "plot.figure(figsize=(16, 8))\n",
    "plot.plot(np.log10(lassocv.alphas_),lassocv.mse_path_)\n",
    "plot.ylabel(\"Mean Squared Error\")\n",
    "plot.xlabel(\"Alpha (log10)\")"
   ]
  },
  {
   "cell_type": "markdown",
   "metadata": {},
   "source": [
    "##### Print out Columns to their Lasso Coefficients"
   ]
  },
  {
   "cell_type": "code",
   "execution_count": 18,
   "metadata": {},
   "outputs": [
    {
     "name": "stdout",
     "output_type": "stream",
     "text": [
      "[('Age', 0.2664831766364393), ('MP', 0.48080219845698413), ('ThreePoints', 0.0), ('AST', 0.0), ('FG', 0.0), ('FT', 0.0), ('TOV', 0.0), ('DRB', 0.26304816412713483), ('FGA', 0.0), ('TRB', 0.0), ('ORB', 0.0), ('FTA', 0.0), ('STL', 0.0), ('BLK', 0.0), ('PF', 0.006711896757269426), ('PointsPerGame', 0.21123285019191615)]\n"
     ]
    }
   ],
   "source": [
    "columnList = list(zip(X.columns,lassocv.coef_))\n",
    "\n",
    "print(columnList)"
   ]
  },
  {
   "cell_type": "markdown",
   "metadata": {},
   "source": [
    "So we see that most of our columns have a lasso coeefficients of 0 so we can remove them from our features list as they do not contribute any significant effect on our data"
   ]
  },
  {
   "cell_type": "code",
   "execution_count": 23,
   "metadata": {},
   "outputs": [],
   "source": [
    "usefulColumns = [x[0] for x in columnList if x[1] != 0.0]"
   ]
  },
  {
   "cell_type": "code",
   "execution_count": 20,
   "metadata": {},
   "outputs": [
    {
     "name": "stdout",
     "output_type": "stream",
     "text": [
      "['Age', 'MP', 'DRB', 'PF', 'PointsPerGame']\n"
     ]
    }
   ],
   "source": [
    "print(usefulColumns)"
   ]
  },
  {
   "cell_type": "markdown",
   "metadata": {},
   "source": [
    "## The Best Predictors on Salaries are:\n",
    "    1. Age\n",
    "    2. Minutes Played per Game\n",
    "    3. Defensive Rebounds per Game\n",
    "    4. Personal Fouls\n",
    "    5. Average Points Per Game"
   ]
  },
  {
   "cell_type": "code",
   "execution_count": 22,
   "metadata": {},
   "outputs": [],
   "source": [
    "## Split Data into X and Y to be used for validating Lasso\n",
    "X, y = onlyPlayerStats[usefulColumns], onlyPlayerStats['Salary_Log']\n"
   ]
  },
  {
   "cell_type": "code",
   "execution_count": 25,
   "metadata": {},
   "outputs": [],
   "source": [
    "## View Correlation of Input Data and Output\n",
    "usefulColumns.append('Salary_Log')\n",
    "onlyUsefulColumns = onlyPlayerStats[usefulColumns]"
   ]
  },
  {
   "cell_type": "code",
   "execution_count": 30,
   "metadata": {},
   "outputs": [
    {
     "data": {
      "text/plain": [
       "[Text(0.5, 0, 'Age'),\n",
       " Text(1.5, 0, 'Minutes Played'),\n",
       " Text(2.5, 0, 'Defensive Rebound'),\n",
       " Text(3.5, 0, 'Fouls'),\n",
       " Text(4.5, 0, 'Points'),\n",
       " Text(5.5, 0, 'Log of Salary')]"
      ]
     },
     "execution_count": 30,
     "metadata": {},
     "output_type": "execute_result"
    },
    {
     "data": {
      "image/png": "[encoded data removed]",
      "text/plain": [
       "<Figure size 1152x576 with 2 Axes>"
      ]
     },
     "metadata": {
      "needs_background": "light"
     },
     "output_type": "display_data"
    }
   ],
   "source": [
    "## Plot Correlation of Salary to Features\n",
    "\n",
    "plot.figure(figsize=(16, 8))\n",
    "snsPlot = sns.heatmap(onlyUsefulColumns.corr(), xticklabels=['Age', 'Minutes Played', 'Defensive Rebound', 'Fouls', 'Points', 'Log of Salary'], yticklabels=['Age', 'Minutes Played', 'Defensive Rebound', 'Fouls', 'Points', 'Log of Salary'],cmap=\"seismic\", annot=True, vmin=-1, vmax=1)\n",
    "snsPlot.set_xticklabels(snsPlot.get_xticklabels(), rotation = 0)"
   ]
  },
  {
   "cell_type": "markdown",
   "metadata": {},
   "source": [
    "We notice that all the input are positively correlated with our salary so this makes our problem ideal for a Linear Regression"
   ]
  },
  {
   "cell_type": "markdown",
   "metadata": {},
   "source": [
    "## STEP 4: PREDICTION USING FEATURES SELECTED BY LASSO"
   ]
  },
  {
   "cell_type": "code",
   "execution_count": 32,
   "metadata": {},
   "outputs": [
    {
     "name": "stdout",
     "output_type": "stream",
     "text": [
      "\n",
      "Validation R^2 score was: 0.43864438613970036\n",
      "Feature coefficient results:\n",
      "Age : 0.08\n",
      "MP : 0.05\n",
      "DRB : 0.15\n",
      "PF : 0.07\n",
      "PointsPerGame : 0.04\n"
     ]
    }
   ],
   "source": [
    "X_train, X_val, y_train, y_val, residuals, model = split_and_validate(X,y) ## Generated new Scores\n",
    "\n",
    "y_pred = model.predict(X)\n",
    "\n",
    "onlyPlayerStats[\"Salary_Log_predict\"] = y_pred"
   ]
  },
  {
   "cell_type": "code",
   "execution_count": 33,
   "metadata": {},
   "outputs": [
    {
     "data": {
      "text/html": [
       "<div>\n",
       "<style scoped>\n",
       "    .dataframe tbody tr th:only-of-type {\n",
       "        vertical-align: middle;\n",
       "    }\n",
       "\n",
       "    .dataframe tbody tr th {\n",
       "        vertical-align: top;\n",
       "    }\n",
       "\n",
       "    .dataframe thead th {\n",
       "        text-align: right;\n",
       "    }\n",
       "</style>\n",
       "<table border=\"1\" class=\"dataframe\">\n",
       "  <thead>\n",
       "    <tr style=\"text-align: right;\">\n",
       "      <th></th>\n",
       "      <th>Name</th>\n",
       "      <th>Age</th>\n",
       "      <th>MP</th>\n",
       "      <th>ThreePoints</th>\n",
       "      <th>AST</th>\n",
       "      <th>FG</th>\n",
       "      <th>FT</th>\n",
       "      <th>TOV</th>\n",
       "      <th>DRB</th>\n",
       "      <th>FGA</th>\n",
       "      <th>...</th>\n",
       "      <th>ORB</th>\n",
       "      <th>FTA</th>\n",
       "      <th>STL</th>\n",
       "      <th>BLK</th>\n",
       "      <th>PF</th>\n",
       "      <th>PointsPerGame</th>\n",
       "      <th>Salary</th>\n",
       "      <th>Season</th>\n",
       "      <th>Salary_Log</th>\n",
       "      <th>Salary_Log_predict</th>\n",
       "    </tr>\n",
       "  </thead>\n",
       "  <tbody>\n",
       "    <tr>\n",
       "      <th>0</th>\n",
       "      <td>Giannis Antetokounmpo</td>\n",
       "      <td>24</td>\n",
       "      <td>32.8</td>\n",
       "      <td>0.7</td>\n",
       "      <td>5.9</td>\n",
       "      <td>10.0</td>\n",
       "      <td>6.9</td>\n",
       "      <td>3.7</td>\n",
       "      <td>10.3</td>\n",
       "      <td>17.3</td>\n",
       "      <td>...</td>\n",
       "      <td>2.2</td>\n",
       "      <td>9.5</td>\n",
       "      <td>1.3</td>\n",
       "      <td>1.5</td>\n",
       "      <td>3.2</td>\n",
       "      <td>27.7</td>\n",
       "      <td>24157304.0</td>\n",
       "      <td>NBA_2019</td>\n",
       "      <td>17.000097</td>\n",
       "      <td>17.290277</td>\n",
       "    </tr>\n",
       "    <tr>\n",
       "      <th>1</th>\n",
       "      <td>Khris Middleton</td>\n",
       "      <td>27</td>\n",
       "      <td>31.1</td>\n",
       "      <td>2.3</td>\n",
       "      <td>4.3</td>\n",
       "      <td>6.6</td>\n",
       "      <td>2.8</td>\n",
       "      <td>2.3</td>\n",
       "      <td>5.3</td>\n",
       "      <td>14.9</td>\n",
       "      <td>...</td>\n",
       "      <td>0.6</td>\n",
       "      <td>3.4</td>\n",
       "      <td>1.0</td>\n",
       "      <td>0.1</td>\n",
       "      <td>2.2</td>\n",
       "      <td>18.3</td>\n",
       "      <td>13000000.0</td>\n",
       "      <td>NBA_2019</td>\n",
       "      <td>16.380460</td>\n",
       "      <td>16.212891</td>\n",
       "    </tr>\n",
       "    <tr>\n",
       "      <th>2</th>\n",
       "      <td>Eric Bledsoe</td>\n",
       "      <td>29</td>\n",
       "      <td>29.1</td>\n",
       "      <td>1.6</td>\n",
       "      <td>5.5</td>\n",
       "      <td>6.0</td>\n",
       "      <td>2.3</td>\n",
       "      <td>2.1</td>\n",
       "      <td>3.6</td>\n",
       "      <td>12.4</td>\n",
       "      <td>...</td>\n",
       "      <td>1.1</td>\n",
       "      <td>3.0</td>\n",
       "      <td>1.5</td>\n",
       "      <td>0.4</td>\n",
       "      <td>2.0</td>\n",
       "      <td>15.9</td>\n",
       "      <td>15000000.0</td>\n",
       "      <td>NBA_2019</td>\n",
       "      <td>16.523561</td>\n",
       "      <td>15.897635</td>\n",
       "    </tr>\n",
       "    <tr>\n",
       "      <th>3</th>\n",
       "      <td>Brook Lopez</td>\n",
       "      <td>30</td>\n",
       "      <td>28.7</td>\n",
       "      <td>2.3</td>\n",
       "      <td>1.2</td>\n",
       "      <td>4.4</td>\n",
       "      <td>1.4</td>\n",
       "      <td>1.0</td>\n",
       "      <td>4.5</td>\n",
       "      <td>9.7</td>\n",
       "      <td>...</td>\n",
       "      <td>0.4</td>\n",
       "      <td>1.6</td>\n",
       "      <td>0.6</td>\n",
       "      <td>2.2</td>\n",
       "      <td>2.3</td>\n",
       "      <td>12.5</td>\n",
       "      <td>3382000.0</td>\n",
       "      <td>NBA_2019</td>\n",
       "      <td>15.033978</td>\n",
       "      <td>15.971340</td>\n",
       "    </tr>\n",
       "    <tr>\n",
       "      <th>4</th>\n",
       "      <td>Malcolm Brogdon</td>\n",
       "      <td>26</td>\n",
       "      <td>28.6</td>\n",
       "      <td>1.6</td>\n",
       "      <td>3.2</td>\n",
       "      <td>5.9</td>\n",
       "      <td>2.2</td>\n",
       "      <td>1.4</td>\n",
       "      <td>3.5</td>\n",
       "      <td>11.7</td>\n",
       "      <td>...</td>\n",
       "      <td>1.0</td>\n",
       "      <td>2.4</td>\n",
       "      <td>0.7</td>\n",
       "      <td>0.2</td>\n",
       "      <td>1.6</td>\n",
       "      <td>15.6</td>\n",
       "      <td>1544951.0</td>\n",
       "      <td>NBA_2019</td>\n",
       "      <td>14.250503</td>\n",
       "      <td>15.576392</td>\n",
       "    </tr>\n",
       "  </tbody>\n",
       "</table>\n",
       "<p>5 rows × 21 columns</p>\n",
       "</div>"
      ],
      "text/plain": [
       "                    Name  Age    MP  ThreePoints  AST    FG   FT  TOV   DRB  \\\n",
       "0  Giannis Antetokounmpo   24  32.8          0.7  5.9  10.0  6.9  3.7  10.3   \n",
       "1        Khris Middleton   27  31.1          2.3  4.3   6.6  2.8  2.3   5.3   \n",
       "2           Eric Bledsoe   29  29.1          1.6  5.5   6.0  2.3  2.1   3.6   \n",
       "3            Brook Lopez   30  28.7          2.3  1.2   4.4  1.4  1.0   4.5   \n",
       "4        Malcolm Brogdon   26  28.6          1.6  3.2   5.9  2.2  1.4   3.5   \n",
       "\n",
       "    FGA  ...  ORB  FTA  STL  BLK   PF  PointsPerGame      Salary    Season  \\\n",
       "0  17.3  ...  2.2  9.5  1.3  1.5  3.2           27.7  24157304.0  NBA_2019   \n",
       "1  14.9  ...  0.6  3.4  1.0  0.1  2.2           18.3  13000000.0  NBA_2019   \n",
       "2  12.4  ...  1.1  3.0  1.5  0.4  2.0           15.9  15000000.0  NBA_2019   \n",
       "3   9.7  ...  0.4  1.6  0.6  2.2  2.3           12.5   3382000.0  NBA_2019   \n",
       "4  11.7  ...  1.0  2.4  0.7  0.2  1.6           15.6   1544951.0  NBA_2019   \n",
       "\n",
       "  Salary_Log  Salary_Log_predict  \n",
       "0  17.000097           17.290277  \n",
       "1  16.380460           16.212891  \n",
       "2  16.523561           15.897635  \n",
       "3  15.033978           15.971340  \n",
       "4  14.250503           15.576392  \n",
       "\n",
       "[5 rows x 21 columns]"
      ]
     },
     "execution_count": 33,
     "metadata": {},
     "output_type": "execute_result"
    }
   ],
   "source": [
    "onlyPlayerStats.head()"
   ]
  },
  {
   "cell_type": "markdown",
   "metadata": {},
   "source": [
    "So we have our predicted Salary in Logarithm but we need to do some inverse log transformation to get our specific players salary. We create a function for that below"
   ]
  },
  {
   "cell_type": "code",
   "execution_count": 35,
   "metadata": {},
   "outputs": [],
   "source": [
    "'''\n",
    "This function returns a dataframe containing a particular user, their stats, \n",
    "log of their actual and predicted salaries, and their actual and predicted salaries\n",
    "'''\n",
    "def getDataStatsSalary(onlyPlayerStats,usefulColumns,playerName):\n",
    "    sortByPlayerStats = onlyPlayerStats.sort_values(by=['Name','Season'])\n",
    "\n",
    "    ### Get Players, and Important Columns\n",
    "    usefulColumns = [\"Name\"] + usefulColumns[0:5] + [\"Season\",\"Salary\"] + [usefulColumns[5]] + [\"Salary_Log_predict\"]\n",
    "\n",
    "    importedColumnSortedPlayers = sortByPlayerStats[usefulColumns]\n",
    "\n",
    "    GiannisHistory = importedColumnSortedPlayers [importedColumnSortedPlayers[\"Name\"] == playerName]\n",
    "\n",
    "    arrayIndex = []\n",
    "    for res in GiannisHistory[\"Salary_Log_predict\"]:\n",
    "        arrayIndex.append(math.exp(res))\n",
    "    \n",
    "    GiannisHistory[\"Salary_predicted\"] = arrayIndex\n",
    "    \n",
    "    CompareData = GiannisHistory.drop(columns=[\"Salary_Log_predict\", \"Salary_Log\"])\n",
    "    \n",
    "    return CompareData"
   ]
  },
  {
   "cell_type": "markdown",
   "metadata": {},
   "source": [
    "## Step 5: Evaluate Results and Draw Insights"
   ]
  },
  {
   "cell_type": "markdown",
   "metadata": {},
   "source": [
    "## Insights 1:\n",
    "Victor Oladipo who won the most improved player in 2018 so an increase in his actual salary from $6.5 M to $ 21 M but my model he predicted he needs to be making less based on his stats. In particular, Victor's stats are lower in 2018 than 2019 because of an out of season injury he had. "
   ]
  },
  {
   "cell_type": "code",
   "execution_count": 50,
   "metadata": {},
   "outputs": [
    {
     "name": "stderr",
     "output_type": "stream",
     "text": [
      "/Users/opasina/anaconda3/lib/python3.7/site-packages/ipykernel_launcher.py:19: SettingWithCopyWarning: \n",
      "A value is trying to be set on a copy of a slice from a DataFrame.\n",
      "Try using .loc[row_indexer,col_indexer] = value instead\n",
      "\n",
      "See the caveats in the documentation: http://pandas.pydata.org/pandas-docs/stable/indexing.html#indexing-view-versus-copy\n"
     ]
    },
    {
     "data": {
      "text/html": [
       "<div>\n",
       "<style scoped>\n",
       "    .dataframe tbody tr th:only-of-type {\n",
       "        vertical-align: middle;\n",
       "    }\n",
       "\n",
       "    .dataframe tbody tr th {\n",
       "        vertical-align: top;\n",
       "    }\n",
       "\n",
       "    .dataframe thead th {\n",
       "        text-align: right;\n",
       "    }\n",
       "</style>\n",
       "<table border=\"1\" class=\"dataframe\">\n",
       "  <thead>\n",
       "    <tr style=\"text-align: right;\">\n",
       "      <th></th>\n",
       "      <th>Name</th>\n",
       "      <th>Age</th>\n",
       "      <th>MP</th>\n",
       "      <th>DRB</th>\n",
       "      <th>PF</th>\n",
       "      <th>PointsPerGame</th>\n",
       "      <th>Season</th>\n",
       "      <th>Salary</th>\n",
       "      <th>Salary_predicted</th>\n",
       "    </tr>\n",
       "  </thead>\n",
       "  <tbody>\n",
       "    <tr>\n",
       "      <th>1260</th>\n",
       "      <td>Victor Oladipo</td>\n",
       "      <td>24</td>\n",
       "      <td>33.20</td>\n",
       "      <td>3.80</td>\n",
       "      <td>2.30</td>\n",
       "      <td>15.90</td>\n",
       "      <td>NBA_2017</td>\n",
       "      <td>6552960.00</td>\n",
       "      <td>6950453.18</td>\n",
       "    </tr>\n",
       "    <tr>\n",
       "      <th>555</th>\n",
       "      <td>Victor Oladipo</td>\n",
       "      <td>25</td>\n",
       "      <td>34.00</td>\n",
       "      <td>4.60</td>\n",
       "      <td>2.30</td>\n",
       "      <td>23.10</td>\n",
       "      <td>NBA_2018</td>\n",
       "      <td>21000000.00</td>\n",
       "      <td>12024670.29</td>\n",
       "    </tr>\n",
       "    <tr>\n",
       "      <th>64</th>\n",
       "      <td>Victor Oladipo</td>\n",
       "      <td>26</td>\n",
       "      <td>31.90</td>\n",
       "      <td>5.00</td>\n",
       "      <td>2.00</td>\n",
       "      <td>18.80</td>\n",
       "      <td>NBA_2019</td>\n",
       "      <td>21000000.00</td>\n",
       "      <td>10163521.21</td>\n",
       "    </tr>\n",
       "  </tbody>\n",
       "</table>\n",
       "</div>"
      ],
      "text/plain": [
       "                Name  Age    MP  DRB   PF  PointsPerGame    Season  \\\n",
       "1260  Victor Oladipo   24 33.20 3.80 2.30          15.90  NBA_2017   \n",
       "555   Victor Oladipo   25 34.00 4.60 2.30          23.10  NBA_2018   \n",
       "64    Victor Oladipo   26 31.90 5.00 2.00          18.80  NBA_2019   \n",
       "\n",
       "          Salary  Salary_predicted  \n",
       "1260  6552960.00        6950453.18  \n",
       "555  21000000.00       12024670.29  \n",
       "64   21000000.00       10163521.21  "
      ]
     },
     "execution_count": 50,
     "metadata": {},
     "output_type": "execute_result"
    }
   ],
   "source": [
    "## Check for the most improved Player in 2017 and evaluate his growth\n",
    "playerComparedStatsVictor = getDataStatsSalary(onlyPlayerStats,usefulColumns,\"Victor Oladipo\")\n",
    "pd.options.display.float_format = '{:.2f}'.format\n",
    "playerComparedStatsVictor "
   ]
  },
  {
   "cell_type": "markdown",
   "metadata": {},
   "source": [
    "## Insights 2:\n",
    "Giannis Antetokounmpo who won the most improved player in 2017 and plays for the Bucks saw an increase in his actual salary from $2.9 M to $ 24 M but my model predicted that he needs to be making a lot more money because of the impact he making on his team.\n",
    "\n",
    "Giannis personally cares more about building the franchise of the Bucks than making the most money from his team but we can use this model to see the value he brings to the Bucks."
   ]
  },
  {
   "cell_type": "code",
   "execution_count": 49,
   "metadata": {
    "scrolled": true
   },
   "outputs": [
    {
     "name": "stderr",
     "output_type": "stream",
     "text": [
      "/Users/opasina/anaconda3/lib/python3.7/site-packages/ipykernel_launcher.py:19: SettingWithCopyWarning: \n",
      "A value is trying to be set on a copy of a slice from a DataFrame.\n",
      "Try using .loc[row_indexer,col_indexer] = value instead\n",
      "\n",
      "See the caveats in the documentation: http://pandas.pydata.org/pandas-docs/stable/indexing.html#indexing-view-versus-copy\n"
     ]
    },
    {
     "data": {
      "text/html": [
       "<div>\n",
       "<style scoped>\n",
       "    .dataframe tbody tr th:only-of-type {\n",
       "        vertical-align: middle;\n",
       "    }\n",
       "\n",
       "    .dataframe tbody tr th {\n",
       "        vertical-align: top;\n",
       "    }\n",
       "\n",
       "    .dataframe thead th {\n",
       "        text-align: right;\n",
       "    }\n",
       "</style>\n",
       "<table border=\"1\" class=\"dataframe\">\n",
       "  <thead>\n",
       "    <tr style=\"text-align: right;\">\n",
       "      <th></th>\n",
       "      <th>Name</th>\n",
       "      <th>Age</th>\n",
       "      <th>MP</th>\n",
       "      <th>DRB</th>\n",
       "      <th>PF</th>\n",
       "      <th>PointsPerGame</th>\n",
       "      <th>Season</th>\n",
       "      <th>Salary</th>\n",
       "      <th>Salary_predicted</th>\n",
       "    </tr>\n",
       "  </thead>\n",
       "  <tbody>\n",
       "    <tr>\n",
       "      <th>1034</th>\n",
       "      <td>Giannis Antetokounmpo</td>\n",
       "      <td>22</td>\n",
       "      <td>35.60</td>\n",
       "      <td>7.00</td>\n",
       "      <td>3.10</td>\n",
       "      <td>22.90</td>\n",
       "      <td>NBA_2017</td>\n",
       "      <td>2995421.00</td>\n",
       "      <td>15497674.11</td>\n",
       "    </tr>\n",
       "    <tr>\n",
       "      <th>585</th>\n",
       "      <td>Giannis Antetokounmpo</td>\n",
       "      <td>23</td>\n",
       "      <td>36.70</td>\n",
       "      <td>8.00</td>\n",
       "      <td>3.10</td>\n",
       "      <td>26.90</td>\n",
       "      <td>NBA_2018</td>\n",
       "      <td>22471910.00</td>\n",
       "      <td>24488340.31</td>\n",
       "    </tr>\n",
       "    <tr>\n",
       "      <th>0</th>\n",
       "      <td>Giannis Antetokounmpo</td>\n",
       "      <td>24</td>\n",
       "      <td>32.80</td>\n",
       "      <td>10.30</td>\n",
       "      <td>3.20</td>\n",
       "      <td>27.70</td>\n",
       "      <td>NBA_2019</td>\n",
       "      <td>24157304.00</td>\n",
       "      <td>32290270.87</td>\n",
       "    </tr>\n",
       "  </tbody>\n",
       "</table>\n",
       "</div>"
      ],
      "text/plain": [
       "                       Name  Age    MP   DRB   PF  PointsPerGame    Season  \\\n",
       "1034  Giannis Antetokounmpo   22 35.60  7.00 3.10          22.90  NBA_2017   \n",
       "585   Giannis Antetokounmpo   23 36.70  8.00 3.10          26.90  NBA_2018   \n",
       "0     Giannis Antetokounmpo   24 32.80 10.30 3.20          27.70  NBA_2019   \n",
       "\n",
       "          Salary  Salary_predicted  \n",
       "1034  2995421.00       15497674.11  \n",
       "585  22471910.00       24488340.31  \n",
       "0    24157304.00       32290270.87  "
      ]
     },
     "execution_count": 49,
     "metadata": {},
     "output_type": "execute_result"
    }
   ],
   "source": [
    "## Player Giannis\n",
    "playerComparedStatsGiannis = getDataStatsSalary(onlyPlayerStats,usefulColumns,\"Giannis Antetokounmpo\")\n",
    "pd.options.display.float_format = '{:.2f}'.format\n",
    "playerComparedStatsGiannis"
   ]
  },
  {
   "cell_type": "markdown",
   "metadata": {},
   "source": [
    "## Insights 3:\n",
    "Jimmy Butler who won the most improved player in 2015 and saw an increase in his actual salary from $17 M to $ 20 M but my model predicted that his salary needs to be decreasing over the different seasons because of his stats.\n",
    "\n",
    "Something to note here is that there are other factors that affect a players value such as social brand and popularity that are not measured in the statistics.\n",
    "\n",
    "So some teams are willing to pay a premium for some players because of the viewership they would bring to the team.\n"
   ]
  },
  {
   "cell_type": "code",
   "execution_count": 48,
   "metadata": {},
   "outputs": [
    {
     "name": "stderr",
     "output_type": "stream",
     "text": [
      "/Users/opasina/anaconda3/lib/python3.7/site-packages/ipykernel_launcher.py:19: SettingWithCopyWarning: \n",
      "A value is trying to be set on a copy of a slice from a DataFrame.\n",
      "Try using .loc[row_indexer,col_indexer] = value instead\n",
      "\n",
      "See the caveats in the documentation: http://pandas.pydata.org/pandas-docs/stable/indexing.html#indexing-view-versus-copy\n"
     ]
    },
    {
     "data": {
      "text/html": [
       "<div>\n",
       "<style scoped>\n",
       "    .dataframe tbody tr th:only-of-type {\n",
       "        vertical-align: middle;\n",
       "    }\n",
       "\n",
       "    .dataframe tbody tr th {\n",
       "        vertical-align: top;\n",
       "    }\n",
       "\n",
       "    .dataframe thead th {\n",
       "        text-align: right;\n",
       "    }\n",
       "</style>\n",
       "<table border=\"1\" class=\"dataframe\">\n",
       "  <thead>\n",
       "    <tr style=\"text-align: right;\">\n",
       "      <th></th>\n",
       "      <th>Name</th>\n",
       "      <th>Age</th>\n",
       "      <th>MP</th>\n",
       "      <th>DRB</th>\n",
       "      <th>PF</th>\n",
       "      <th>PointsPerGame</th>\n",
       "      <th>Season</th>\n",
       "      <th>Salary</th>\n",
       "      <th>Salary_predicted</th>\n",
       "    </tr>\n",
       "  </thead>\n",
       "  <tbody>\n",
       "    <tr>\n",
       "      <th>1067</th>\n",
       "      <td>Jimmy Butler</td>\n",
       "      <td>27</td>\n",
       "      <td>37.00</td>\n",
       "      <td>4.50</td>\n",
       "      <td>1.50</td>\n",
       "      <td>23.90</td>\n",
       "      <td>NBA_2017</td>\n",
       "      <td>17552209.00</td>\n",
       "      <td>15786995.85</td>\n",
       "    </tr>\n",
       "    <tr>\n",
       "      <th>829</th>\n",
       "      <td>Jimmy Butler</td>\n",
       "      <td>28</td>\n",
       "      <td>36.70</td>\n",
       "      <td>4.00</td>\n",
       "      <td>1.30</td>\n",
       "      <td>22.20</td>\n",
       "      <td>NBA_2018</td>\n",
       "      <td>19301070.00</td>\n",
       "      <td>14318452.25</td>\n",
       "    </tr>\n",
       "    <tr>\n",
       "      <th>36</th>\n",
       "      <td>Jimmy Butler</td>\n",
       "      <td>29</td>\n",
       "      <td>33.20</td>\n",
       "      <td>3.40</td>\n",
       "      <td>1.70</td>\n",
       "      <td>18.20</td>\n",
       "      <td>NBA_2019</td>\n",
       "      <td>20445779.00</td>\n",
       "      <td>10311500.10</td>\n",
       "    </tr>\n",
       "  </tbody>\n",
       "</table>\n",
       "</div>"
      ],
      "text/plain": [
       "              Name  Age    MP  DRB   PF  PointsPerGame    Season      Salary  \\\n",
       "1067  Jimmy Butler   27 37.00 4.50 1.50          23.90  NBA_2017 17552209.00   \n",
       "829   Jimmy Butler   28 36.70 4.00 1.30          22.20  NBA_2018 19301070.00   \n",
       "36    Jimmy Butler   29 33.20 3.40 1.70          18.20  NBA_2019 20445779.00   \n",
       "\n",
       "      Salary_predicted  \n",
       "1067       15786995.85  \n",
       "829        14318452.25  \n",
       "36         10311500.10  "
      ]
     },
     "execution_count": 48,
     "metadata": {},
     "output_type": "execute_result"
    }
   ],
   "source": [
    "## Player Jimmy\n",
    "playerComparedStatsJimmy = getDataStatsSalary(onlyPlayerStats,usefulColumns,\"Jimmy Butler\")\n",
    "playerComparedStatsJimmy"
   ]
  },
  {
   "cell_type": "markdown",
   "metadata": {},
   "source": [
    "## Conclusion:\n",
    "In conclusion, I was able to predict Nba salaries for players based on their stats. The model actually provides a lot more insights on the impact a player makes on the team games and can be used to either extend the players contract or trade the player."
   ]
  },
  {
   "cell_type": "code",
   "execution_count": null,
   "metadata": {},
   "outputs": [],
   "source": []
  }
 ],
 "metadata": {
  "kernelspec": {
   "display_name": "Python 3",
   "language": "python",
   "name": "python3"
  },
  "language_info": {
   "codemirror_mode": {
    "name": "ipython",
    "version": 3
   },
   "file_extension": ".py",
   "mimetype": "text/x-python",
   "name": "python",
   "nbconvert_exporter": "python",
   "pygments_lexer": "ipython3",
   "version": "3.7.3"
  }
 },
 "nbformat": 4,
 "nbformat_minor": 2
}
